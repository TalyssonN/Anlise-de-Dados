{
 "cells": [
  {
   "cell_type": "code",
   "execution_count": 8,
   "id": "d1ea6c91-3d70-4843-916f-3a87962ff7cc",
   "metadata": {},
   "outputs": [],
   "source": [
    "\n",
    "import sqlite3;\n",
    "import pandas as pd;"
   ]
  },
  {
   "cell_type": "code",
   "execution_count": 9,
   "id": "8fb5fc68-278b-428b-ba41-eccc933c44e0",
   "metadata": {},
   "outputs": [],
   "source": [
    "conn = sqlite3.connect(':memory:');"
   ]
  },
  {
   "cell_type": "code",
   "execution_count": 10,
   "id": "ea428b54-3b80-4744-82a4-7c9e574ab34a",
   "metadata": {},
   "outputs": [],
   "source": [
    "cursor = conn.cursor();"
   ]
  },
  {
   "cell_type": "code",
   "execution_count": 11,
   "id": "293e8221-7435-461e-bb93-6f2d1640c4ab",
   "metadata": {},
   "outputs": [],
   "source": [
    "cursor.execute('''CREATE TABLE clientes (\n",
    "    nome TEXT,\n",
    "    idade BIGINT,\n",
    "    quantidade BIGINT,\n",
    "    total FLOAT\n",
    "    )\n",
    "''');"
   ]
  },
  {
   "cell_type": "code",
   "execution_count": 12,
   "id": "f2a0202e-cae2-4126-b802-f3dccdd3f1d1",
   "metadata": {},
   "outputs": [],
   "source": [
    "df = pd.read_sql_query(\"SELECT * FROM clientes\", conn)"
   ]
  },
  {
   "cell_type": "code",
   "execution_count": 13,
   "id": "b7f0d5a7-70d7-4c7f-858f-47c92f62db41",
   "metadata": {},
   "outputs": [
    {
     "name": "stdout",
     "output_type": "stream",
     "text": [
      "Empty DataFrame\n",
      "Columns: [nome, idade, quantidade, total]\n",
      "Index: []\n"
     ]
    }
   ],
   "source": [
    "print(df)"
   ]
  },
  {
   "cell_type": "code",
   "execution_count": 14,
   "id": "c8114dec-39ab-44fa-b3af-acc2ec4fc69d",
   "metadata": {},
   "outputs": [
    {
     "data": {
      "text/plain": [
       "<sqlite3.Cursor at 0x1c2fcf41c40>"
      ]
     },
     "execution_count": 14,
     "metadata": {},
     "output_type": "execute_result"
    }
   ],
   "source": [
    "cursor.execute(\"\"\" INSERT INTO clientes VALUES ('Talysson', 21, 3, 2.5)\n",
    "\"\"\")"
   ]
  },
  {
   "cell_type": "code",
   "execution_count": 15,
   "id": "58647733-e6b3-4efd-86aa-3cace82cddde",
   "metadata": {},
   "outputs": [],
   "source": [
    "df = pd.read_sql_query(\"SELECT * FROM clientes\", conn)"
   ]
  },
  {
   "cell_type": "code",
   "execution_count": 16,
   "id": "389f455f-2887-4271-85fb-850ba8d2709f",
   "metadata": {},
   "outputs": [
    {
     "data": {
      "text/html": [
       "<div>\n",
       "<style scoped>\n",
       "    .dataframe tbody tr th:only-of-type {\n",
       "        vertical-align: middle;\n",
       "    }\n",
       "\n",
       "    .dataframe tbody tr th {\n",
       "        vertical-align: top;\n",
       "    }\n",
       "\n",
       "    .dataframe thead th {\n",
       "        text-align: right;\n",
       "    }\n",
       "</style>\n",
       "<table border=\"1\" class=\"dataframe\">\n",
       "  <thead>\n",
       "    <tr style=\"text-align: right;\">\n",
       "      <th></th>\n",
       "      <th>nome</th>\n",
       "      <th>idade</th>\n",
       "      <th>quantidade</th>\n",
       "      <th>total</th>\n",
       "    </tr>\n",
       "  </thead>\n",
       "  <tbody>\n",
       "    <tr>\n",
       "      <th>0</th>\n",
       "      <td>Talysson</td>\n",
       "      <td>21</td>\n",
       "      <td>3</td>\n",
       "      <td>2.5</td>\n",
       "    </tr>\n",
       "  </tbody>\n",
       "</table>\n",
       "</div>"
      ],
      "text/plain": [
       "       nome  idade  quantidade  total\n",
       "0  Talysson     21           3    2.5"
      ]
     },
     "metadata": {},
     "output_type": "display_data"
    }
   ],
   "source": [
    "display(df)"
   ]
  },
  {
   "cell_type": "code",
   "execution_count": 17,
   "id": "e24bef65-ec75-415e-ae31-9d7cc5ec33e1",
   "metadata": {},
   "outputs": [
    {
     "data": {
      "text/plain": [
       "<sqlite3.Cursor at 0x1c2fcf41c40>"
      ]
     },
     "execution_count": 17,
     "metadata": {},
     "output_type": "execute_result"
    }
   ],
   "source": [
    "cursor.execute(\"\"\" INSERT INTO clientes VALUES ('Talysson', 23, 3, 2.5)\n",
    "\"\"\")"
   ]
  },
  {
   "cell_type": "code",
   "execution_count": 18,
   "id": "1ea566c5-e95c-4382-b917-26e6731e62c2",
   "metadata": {},
   "outputs": [],
   "source": [
    "df = pd.read_sql_query(\"SELECT * FROM clientes\", conn)"
   ]
  },
  {
   "cell_type": "code",
   "execution_count": 19,
   "id": "86ff6eef-fa81-41ac-affa-3077e6241d57",
   "metadata": {},
   "outputs": [
    {
     "data": {
      "text/html": [
       "<div>\n",
       "<style scoped>\n",
       "    .dataframe tbody tr th:only-of-type {\n",
       "        vertical-align: middle;\n",
       "    }\n",
       "\n",
       "    .dataframe tbody tr th {\n",
       "        vertical-align: top;\n",
       "    }\n",
       "\n",
       "    .dataframe thead th {\n",
       "        text-align: right;\n",
       "    }\n",
       "</style>\n",
       "<table border=\"1\" class=\"dataframe\">\n",
       "  <thead>\n",
       "    <tr style=\"text-align: right;\">\n",
       "      <th></th>\n",
       "      <th>nome</th>\n",
       "      <th>idade</th>\n",
       "      <th>quantidade</th>\n",
       "      <th>total</th>\n",
       "    </tr>\n",
       "  </thead>\n",
       "  <tbody>\n",
       "    <tr>\n",
       "      <th>0</th>\n",
       "      <td>Talysson</td>\n",
       "      <td>21</td>\n",
       "      <td>3</td>\n",
       "      <td>2.5</td>\n",
       "    </tr>\n",
       "    <tr>\n",
       "      <th>1</th>\n",
       "      <td>Talysson</td>\n",
       "      <td>23</td>\n",
       "      <td>3</td>\n",
       "      <td>2.5</td>\n",
       "    </tr>\n",
       "  </tbody>\n",
       "</table>\n",
       "</div>"
      ],
      "text/plain": [
       "       nome  idade  quantidade  total\n",
       "0  Talysson     21           3    2.5\n",
       "1  Talysson     23           3    2.5"
      ]
     },
     "metadata": {},
     "output_type": "display_data"
    }
   ],
   "source": [
    "display(df)"
   ]
  },
  {
   "cell_type": "code",
   "execution_count": 20,
   "id": "752c1509-c769-4443-8ff6-b4710e08f4e5",
   "metadata": {},
   "outputs": [],
   "source": [
    "cursor.execute('''CREATE TABLE clientes_novo (\n",
    "    nome TEXT,\n",
    "    idade BIGINT,\n",
    "    quantidade BIGINT,\n",
    "    total FLOAT\n",
    "    )\n",
    "''');"
   ]
  },
  {
   "cell_type": "code",
   "execution_count": 21,
   "id": "bf084664-01ea-4f57-b694-6bcfbc21d5be",
   "metadata": {},
   "outputs": [
    {
     "name": "stdout",
     "output_type": "stream",
     "text": [
      "Empty DataFrame\n",
      "Columns: [nome, idade, quantidade, total]\n",
      "Index: []\n"
     ]
    }
   ],
   "source": [
    "cursor.execute(\"\"\" DROP TABLE clientes \"\"\")\n",
    "df = pd.read_sql_query(\"SELECT * FROM clientes_novo\", conn)\n",
    "print(df)"
   ]
  },
  {
   "cell_type": "code",
   "execution_count": 22,
   "id": "9935ed74-07d6-45cf-8456-c12e6769996d",
   "metadata": {},
   "outputs": [
    {
     "data": {
      "text/plain": [
       "<sqlite3.Cursor at 0x1c2fcf41c40>"
      ]
     },
     "execution_count": 22,
     "metadata": {},
     "output_type": "execute_result"
    }
   ],
   "source": [
    "cursor.execute(\"\"\"ALTER TABLE clientes_novo RENAME TO clientes\"\"\")"
   ]
  },
  {
   "cell_type": "code",
   "execution_count": 23,
   "id": "5ee45bd6-33c7-4d5c-952a-d66d788bdce5",
   "metadata": {},
   "outputs": [
    {
     "data": {
      "text/plain": [
       "<sqlite3.Cursor at 0x1c2fcf41c40>"
      ]
     },
     "execution_count": 23,
     "metadata": {},
     "output_type": "execute_result"
    }
   ],
   "source": [
    "cursor.execute(\"\"\" INSERT INTO clientes VALUES ('Talysson', 21, 3, 2.5)\"\"\")\n",
    "cursor.execute(\"\"\" INSERT INTO clientes VALUES ('Teste 02', 22, 4, 7.5)\"\"\")\n",
    "cursor.execute(\"\"\" INSERT INTO clientes VALUES ('Teste 03', 23, 5, 8.5)\"\"\")"
   ]
  },
  {
   "cell_type": "code",
   "execution_count": 24,
   "id": "e45498fd-fc34-47c3-bc25-5ea5a0d08145",
   "metadata": {},
   "outputs": [
    {
     "data": {
      "text/html": [
       "<div>\n",
       "<style scoped>\n",
       "    .dataframe tbody tr th:only-of-type {\n",
       "        vertical-align: middle;\n",
       "    }\n",
       "\n",
       "    .dataframe tbody tr th {\n",
       "        vertical-align: top;\n",
       "    }\n",
       "\n",
       "    .dataframe thead th {\n",
       "        text-align: right;\n",
       "    }\n",
       "</style>\n",
       "<table border=\"1\" class=\"dataframe\">\n",
       "  <thead>\n",
       "    <tr style=\"text-align: right;\">\n",
       "      <th></th>\n",
       "      <th>nome</th>\n",
       "      <th>idade</th>\n",
       "      <th>quantidade</th>\n",
       "      <th>total</th>\n",
       "    </tr>\n",
       "  </thead>\n",
       "  <tbody>\n",
       "    <tr>\n",
       "      <th>0</th>\n",
       "      <td>Talysson</td>\n",
       "      <td>21</td>\n",
       "      <td>3</td>\n",
       "      <td>2.5</td>\n",
       "    </tr>\n",
       "    <tr>\n",
       "      <th>1</th>\n",
       "      <td>Teste 02</td>\n",
       "      <td>22</td>\n",
       "      <td>4</td>\n",
       "      <td>7.5</td>\n",
       "    </tr>\n",
       "    <tr>\n",
       "      <th>2</th>\n",
       "      <td>Teste 03</td>\n",
       "      <td>23</td>\n",
       "      <td>5</td>\n",
       "      <td>8.5</td>\n",
       "    </tr>\n",
       "  </tbody>\n",
       "</table>\n",
       "</div>"
      ],
      "text/plain": [
       "       nome  idade  quantidade  total\n",
       "0  Talysson     21           3    2.5\n",
       "1  Teste 02     22           4    7.5\n",
       "2  Teste 03     23           5    8.5"
      ]
     },
     "metadata": {},
     "output_type": "display_data"
    }
   ],
   "source": [
    "df = pd.read_sql_query(\"SELECT * FROM clientes\", conn)\n",
    "display(df)"
   ]
  },
  {
   "cell_type": "code",
   "execution_count": null,
   "id": "84107c5c-af92-4358-bc75-fa5a13e06758",
   "metadata": {},
   "outputs": [],
   "source": []
  }
 ],
 "metadata": {
  "kernelspec": {
   "display_name": "Python 3",
   "language": "python",
   "name": "python3"
  },
  "language_info": {
   "codemirror_mode": {
    "name": "ipython",
    "version": 3
   },
   "file_extension": ".py",
   "mimetype": "text/x-python",
   "name": "python",
   "nbconvert_exporter": "python",
   "pygments_lexer": "ipython3",
   "version": "3.12.7"
  }
 },
 "nbformat": 4,
 "nbformat_minor": 5
}
